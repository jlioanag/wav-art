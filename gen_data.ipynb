{
  "nbformat": 4,
  "nbformat_minor": 0,
  "metadata": {
    "colab": {
      "name": "gen_data.ipynb",
      "provenance": [],
      "mount_file_id": "1sHZ_ZccXN71ckfciLBH-vpnjPx4atpyg",
      "authorship_tag": "ABX9TyMlTljYQx8VCmc5MjAHxJV3",
      "include_colab_link": true
    },
    "kernelspec": {
      "name": "python3",
      "display_name": "Python 3"
    }
  },
  "cells": [
    {
      "cell_type": "markdown",
      "metadata": {
        "id": "view-in-github",
        "colab_type": "text"
      },
      "source": [
        "<a href=\"https://colab.research.google.com/github/jlioanag/wav-art/blob/main/gen_data.ipynb\" target=\"_parent\"><img src=\"https://colab.research.google.com/assets/colab-badge.svg\" alt=\"Open In Colab\"/></a>"
      ]
    },
    {
      "cell_type": "markdown",
      "metadata": {
        "id": "-z6czYETRSBP"
      },
      "source": [
        "Install dependencies"
      ]
    },
    {
      "cell_type": "code",
      "metadata": {
        "id": "0Uecqo8tRGX2",
        "outputId": "44a8db6a-0a5c-4467-e858-aea19cd9cc8c",
        "colab": {
          "base_uri": "https://localhost:8080/",
          "height": 102
        }
      },
      "source": [
        "!pip install numpy\n",
        "!pip install pydub"
      ],
      "execution_count": null,
      "outputs": [
        {
          "output_type": "stream",
          "text": [
            "Requirement already satisfied: numpy in /usr/local/lib/python3.6/dist-packages (1.18.5)\n",
            "Collecting pydub\n",
            "  Downloading https://files.pythonhosted.org/packages/7b/d1/fbfa79371a8cd9bb15c2e3c480d7e6e340ed5cc55005174e16f48418333a/pydub-0.24.1-py2.py3-none-any.whl\n",
            "Installing collected packages: pydub\n",
            "Successfully installed pydub-0.24.1\n"
          ],
          "name": "stdout"
        }
      ]
    },
    {
      "cell_type": "markdown",
      "metadata": {
        "id": "UyuiSKFQRWwU"
      },
      "source": [
        "Import packages"
      ]
    },
    {
      "cell_type": "code",
      "metadata": {
        "id": "VVGdRqffRCRz"
      },
      "source": [
        "import numpy as np\n",
        "import pydub\n",
        "import time"
      ],
      "execution_count": null,
      "outputs": []
    },
    {
      "cell_type": "markdown",
      "metadata": {
        "id": "2sYh7mpVRZmf"
      },
      "source": [
        "Obtain and normalize array of audio data from mp3 "
      ]
    },
    {
      "cell_type": "code",
      "metadata": {
        "id": "o5sbemvaQ-yt",
        "outputId": "8507a203-4f62-4212-b4c8-69ca0e0015ca",
        "colab": {
          "base_uri": "https://localhost:8080/",
          "height": 102
        }
      },
      "source": [
        "FILE_PATH = \"/content/drive/My Drive/Colab Notebooks/wav-art/slide.mp3\"\n",
        "\n",
        "print(\"Getting array of data\")\n",
        "sound = np.asarray(pydub.AudioSegment.from_mp3(FILE_PATH).get_array_of_samples(),dtype = np.int64)\n",
        "\n",
        "print(\"Normalizing\")\n",
        "sound = ((sound - sound.min()) * (1/(sound.max() - sound.min()) * 255))\n",
        "\n",
        "# Threshold\n",
        "# sound = sound[sound >= 129]\n",
        "print(len(sound))\n",
        "\n",
        "fixed = np.rint(sound).astype(int)\n",
        "fixed = fixed[fixed != 128]\n",
        "# print(fixed[1])\n",
        "print(len(fixed))\n",
        "\n",
        "sampled = np.random.choice(fixed, 10000)\n",
        "print(len(sampled))"
      ],
      "execution_count": null,
      "outputs": [
        {
          "output_type": "stream",
          "text": [
            "Getting array of data\n",
            "Normalizing\n",
            "20422750\n",
            "19908532\n",
            "10000\n"
          ],
          "name": "stdout"
        }
      ]
    },
    {
      "cell_type": "code",
      "metadata": {
        "id": "rv-1LHOzXGRG",
        "outputId": "872ee33d-97e8-40b2-cd28-ce74d58227b8",
        "colab": {
          "base_uri": "https://localhost:8080/",
          "height": 51
        }
      },
      "source": [
        "SAVE_PATH = \"/content/drive/My Drive/Colab Notebooks/wav-art/slide_data_random.txt\"\n",
        "\n",
        "print(\"Saving...\")\n",
        "save_file = np.savetxt(SAVE_PATH, sampled.astype(int), fmt='%i')\n",
        "print(\"Saved file to: \", SAVE_PATH)"
      ],
      "execution_count": null,
      "outputs": [
        {
          "output_type": "stream",
          "text": [
            "Saving...\n",
            "Saved file to:  /content/drive/My Drive/Colab Notebooks/wav-art/slide_data_random.txt\n"
          ],
          "name": "stdout"
        }
      ]
    }
  ]
}